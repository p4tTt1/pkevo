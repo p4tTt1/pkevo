{
 "cells": [
  {
   "cell_type": "markdown",
   "metadata": {},
   "source": [
    "### Comparing different polyketides (real-life examples vs result outcomes from PKevo/MOD calculations)"
   ]
  },
  {
   "cell_type": "code",
   "execution_count": null,
   "metadata": {},
   "outputs": [],
   "source": [
    "from rdkit import Chem\n",
    "from rdkit.Chem import rdDepictor\n",
    "from rdkit.Chem.Draw import IPythonConsole\n",
    "from rdkit.Chem import Draw\n",
    "IPythonConsole.ipython_useSVG=True  # set this to False if you want PNGs instead of SVGs\n",
    "rdDepictor.SetPreferCoordGen(True)"
   ]
  },
  {
   "cell_type": "code",
   "execution_count": null,
   "metadata": {},
   "outputs": [],
   "source": [
    "triketide_lactone_pkevo = \"C1(CC(CC(CC)O1)O)=O\"\n",
    "res_pkevo = Chem.MolFromSmiles(triketide_lactone_pkevo)\n",
    "res_pkevo"
   ]
  },
  {
   "cell_type": "code",
   "execution_count": null,
   "metadata": {},
   "outputs": [],
   "source": [
    "geldanamycin_pubchem = \"CC1CC(C(C(C=C(C(C(C=CC=C(C(=O)NC2=CC(=O)C(=C(C1)C2=O)OC)C)OC)OC(=O)N)C)C)O)OC\"\n",
    "res_pubchem = Chem.MolFromSmiles(geldanamycin_pubchem)\n",
    "res_pubchem"
   ]
  },
  {
   "cell_type": "code",
   "execution_count": null,
   "metadata": {},
   "outputs": [],
   "source": [
    "progeldanamycin_pubchem = \"CC1CC(C(C(C=C(C(C(CCC=C(C(=O)NC2=CC(=CC(=C2)C1)O)C)OC)O)C)C)O)OC\"\n",
    "res_pubchem = Chem.MolFromSmiles(progeldanamycin_pubchem)\n",
    "res_pubchem"
   ]
  },
  {
   "cell_type": "code",
   "execution_count": null,
   "metadata": {},
   "outputs": [],
   "source": [
    "progeldanamycin_pkevo = \"C1CCC(C(C(C)=CC(C)C(C(CC(C)CC2:C:C(:C:C(:C:2)NC(C=1C)=O)O)OC)O)O)OC\"\n",
    "res_pkevo = Chem.MolFromSmiles(progeldanamycin_pkevo)\n",
    "res_pkevo"
   ]
  },
  {
   "cell_type": "code",
   "execution_count": null,
   "metadata": {},
   "outputs": [],
   "source": [
    "erythromycin_precursor_6dEB = \"CCC1C(C(C(C(=O)C(CC(C(C(C(C(C(=O)O1)C)O)C)O)C)C)C)O)C\"\n",
    "res_pubchem = Chem.MolFromSmiles(erythromycin_precursor_6dEB)\n",
    "res_pubchem"
   ]
  },
  {
   "cell_type": "code",
   "execution_count": null,
   "metadata": {},
   "outputs": [],
   "source": [
    "\n",
    "erythromycin_precursor_pkevo = \"C1(C(C)C(C(C)C(C(C)CC(C(C(C)C(C(C)C(CC)O1)O)=O)C)O)O)=O\"\n",
    "res_pkevo = Chem.MolFromSmiles(erythromycin_precursor_pkevo)\n",
    "res_pkevo"
   ]
  },
  {
   "cell_type": "code",
   "execution_count": null,
   "metadata": {},
   "outputs": [],
   "source": [
    "\n",
    "res1 = Chem.MolFromSmiles(\"C1C2(C3(C(C(C(C)C(C3(C4:C(:C:C(:C(:C:4C2(O)OC(C=1N)=O)O)CCCl)O)CCCl)O)O)O)O)OC\")\n",
    "res1"
   ]
  },
  {
   "cell_type": "code",
   "execution_count": null,
   "metadata": {},
   "outputs": [],
   "source": [
    "target1 = Chem.MolFromSmiles(\"CC1CC(C(C(C=C(C(C(C=CC=C(C(=O)NC2=CC(=O)C(=C(C1)C2=O)OC)C)OC)OC(=O)N)C)C)O)OC\")\n",
    "target1"
   ]
  },
  {
   "cell_type": "markdown",
   "metadata": {},
   "source": [
    "### Comparing Morgan fingerprint against Daylight-like fingerprint"
   ]
  },
  {
   "cell_type": "code",
   "execution_count": null,
   "metadata": {},
   "outputs": [],
   "source": [
    "# Comparing Morgan fingerprint against Daylight-like fingerprint\n",
    "from rdkit import Chem\n",
    "from rdkit.Chem import AllChem, DataStructs\n",
    "\n",
    "target_smiles = \"CC1CC(C(C(C=C(C(C(C=CC=C(C(=O)NC2=CC(=O)C(=C(C1)C2=O)OC)C)OC)OC(=O)N)C)C)O)OC\"\n",
    "target_molecule = Chem.MolFromSmiles(target_smiles)\n",
    "\n",
    "generated_smiles = \"C1(CC(NC2CC=C(C(C=2C3(C(C=CC(C13CC)=O)OC)O)=O)OC)=O)=O\"\n",
    "generated_molecule = Chem.MolFromSmiles(generated_smiles)\n",
    "\n",
    "# Calculate Morgan fingerprint for the target molecule\n",
    "radius = 2  # You can adjust the radius based on your preference\n",
    "target_fp_morgan = AllChem.GetMorganFingerprintAsBitVect(target_molecule, radius)\n",
    "\n",
    "# Calculate Morgan fingerprint for the generated molecule\n",
    "generated_fp_morgan = AllChem.GetMorganFingerprintAsBitVect(generated_molecule, radius)\n",
    "\n",
    "# Repeat the same for Daylight-like fingerprint\n",
    "fpgen = AllChem.GetRDKitFPGenerator()\n",
    "target_fp_daylight = fpgen.GetFingerprint(target_molecule) \n",
    "generated_fp_daylight = fpgen.GetFingerprint(generated_molecule) \n",
    "\n",
    "# Use Tanimoto similarity for Morgan fingerprint and Daylight-like fingerprint\n",
    "similarity_morgan = DataStructs.TanimotoSimilarity(generated_fp_morgan, target_fp_morgan)\n",
    "similarity_daylight = DataStructs.TanimotoSimilarity(generated_fp_daylight, target_fp_daylight)\n",
    "\n",
    "print(f\"Morgan score: {similarity_morgan}\")\n",
    "print(f\"Daylight score: {similarity_daylight}\")\n"
   ]
  }
 ],
 "metadata": {
  "kernelspec": {
   "display_name": "Python 3.11.4 64-bit",
   "language": "python",
   "name": "python3"
  },
  "language_info": {
   "codemirror_mode": {
    "name": "ipython",
    "version": 3
   },
   "file_extension": ".py",
   "mimetype": "text/x-python",
   "name": "python",
   "nbconvert_exporter": "python",
   "pygments_lexer": "ipython3",
   "version": "3.11.6"
  },
  "orig_nbformat": 4,
  "vscode": {
   "interpreter": {
    "hash": "767d51c1340bd893661ea55ea3124f6de3c7a262a8b4abca0554b478b1e2ff90"
   }
  }
 },
 "nbformat": 4,
 "nbformat_minor": 2
}
