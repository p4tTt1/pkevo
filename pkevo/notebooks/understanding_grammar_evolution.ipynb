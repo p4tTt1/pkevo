{
 "cells": [
  {
   "cell_type": "markdown",
   "metadata": {},
   "source": [
    "Import main packages"
   ]
  },
  {
   "cell_type": "code",
   "execution_count": 6,
   "metadata": {},
   "outputs": [],
   "source": [
    "import os\n",
    "import sys\n",
    "sys.path.insert(1, os.path.join(sys.path[0], '..'))\n",
    "from rdkit.Chem import Descriptors\n",
    "\n",
    "from grammatical_evolution.grammatical_evolution import GrammaticalEvolution as ge\n",
    "from grammatical_evolution.model._grammar import _Grammar\n",
    "from config.pkevo_config import EvolutionConfig as evo_config\n",
    "from config.pkevo_config import SearchConfig as search_config"
   ]
  },
  {
   "cell_type": "markdown",
   "metadata": {},
   "source": [
    "Define a grammar and let's see how the program breaks down a context-free grammar from a BNF file"
   ]
  },
  {
   "cell_type": "code",
   "execution_count": null,
   "metadata": {},
   "outputs": [],
   "source": [
    "GRAMMAR_FILE_NAME = 'pks.bnf'\n",
    "current_dir = os.path.dirname(os.path.abspath('__file__'))\n",
    "grammar_file_path = os.path.join(current_dir, '..', 'grammatical_evolution', 'grammars', GRAMMAR_FILE_NAME)\n",
    "\n",
    "grammar = _Grammar(grammar_file_path=grammar_file_path) \n",
    "print(grammar)"
   ]
  },
  {
   "cell_type": "markdown",
   "metadata": {},
   "source": [
    "Let's make a quick simulation using our GE algorithm with the \"string_distance\" fitness function. This fitness function has merely a demonstrative character showing us how the Grammatical evolution works."
   ]
  },
  {
   "cell_type": "code",
   "execution_count": null,
   "metadata": {},
   "outputs": [],
   "source": [
    "# PKS Domain string for Geldanamycin\n",
    "search_config.TARGET_SEQUENCE = 'AT(AHBA)-ACP--KS-AT(Methylmalonyl)-KR-DH-ER-ACP--KS-AT(Methoxymalonyl)-KR-DH-ER-ACP--KS-AT(Methylmalonyl)-KR-ACP--KS-AT(Methylmalonyl)-KR-DH-ACP--KS-AT(Methoxymalonyl)-KR-ACP--KS-AT(Malonyl)-KR-DH-ER-ACP--KS-AT(Methylmalonyl)-KR-DH-ACP--TE(Macrolactonization)'\n",
    "\n",
    "# Modify the configuration variables as needed\n",
    "evo_config.GENERATIONS = 10\n",
    "evo_config.POPULATION_SIZE = 20\n",
    "evo_config.GENERATION_SIZE = 20\n",
    "\n",
    "# Create the GrammaticalEvolution object and run the algorithm\n",
    "sim_1 = ge(grammar_file_path=grammar_file_path,\n",
    "           fitness_function_name='StringDistance', \n",
    "           verbose=False, \n",
    "           store_results=False, \n",
    "           starting_ind=False  \n",
    "        )\n",
    "\n",
    "best_ind = sim_1.run(verbose=False)\n",
    "print(\"Best individual:\")\n",
    "print(best_ind)"
   ]
  }
 ],
 "metadata": {
  "kernelspec": {
   "display_name": "Python 3.11.4 ('django-env')",
   "language": "python",
   "name": "python3"
  },
  "language_info": {
   "codemirror_mode": {
    "name": "ipython",
    "version": 3
   },
   "file_extension": ".py",
   "mimetype": "text/x-python",
   "name": "python",
   "nbconvert_exporter": "python",
   "pygments_lexer": "ipython3",
   "version": "3.11.6"
  },
  "orig_nbformat": 4,
  "vscode": {
   "interpreter": {
    "hash": "af1c9a16bb2ef16235990ca615c81c3bc5b12d0431cf86f8d4a1d6bc5faf861e"
   }
  }
 },
 "nbformat": 4,
 "nbformat_minor": 2
}
